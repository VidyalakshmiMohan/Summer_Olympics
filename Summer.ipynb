{
 "cells": [
  {
   "cell_type": "markdown",
   "metadata": {},
   "source": [
    "# Summer Olympics Data Analysis Assignment"
   ]
  },
  {
   "cell_type": "code",
   "execution_count": 1,
   "metadata": {},
   "outputs": [],
   "source": [
    "import pandas as pd\n",
    "import matplotlib.pyplot as plt"
   ]
  },
  {
   "cell_type": "code",
   "execution_count": 2,
   "metadata": {},
   "outputs": [],
   "source": [
    "df=pd.read_csv(\"summer.csv\")"
   ]
  },
  {
   "cell_type": "markdown",
   "metadata": {},
   "source": [
    "### 1. In how many cities Summer Olympics is held so far?"
   ]
  },
  {
   "cell_type": "code",
   "execution_count": 3,
   "metadata": {},
   "outputs": [
    {
     "name": "stdout",
     "output_type": "stream",
     "text": [
      "22\n"
     ]
    }
   ],
   "source": [
    "print((df['City'].nunique()))"
   ]
  },
  {
   "cell_type": "markdown",
   "metadata": {},
   "source": [
    "### 2. Which sport is having most number of Gold Medals so far? (Top 5)"
   ]
  },
  {
   "cell_type": "code",
   "execution_count": 4,
   "metadata": {},
   "outputs": [
    {
     "name": "stdout",
     "output_type": "stream",
     "text": [
      "         Sport  Total Gold Medal\n",
      "0     Aquatics              1421\n",
      "2    Athletics              1215\n",
      "28      Rowing               890\n",
      "17  Gymnastics               820\n",
      "14     Fencing               552\n"
     ]
    }
   ],
   "source": [
    "#Extracting only gold medals \n",
    "most_gold_medals=df[df['Medal']=='Gold']\n",
    "\n",
    "#Grouping by sport\n",
    "most_gold_medal=most_gold_medals.groupby(\"Sport\")\n",
    "\n",
    "sport=[]\n",
    "gold_count=[]\n",
    "\n",
    "# groups gives unique set of Sport in the dataset\n",
    "for i in most_gold_medal.groups:\n",
    "    sport.append(i)            \n",
    "    gold_count.append(len(most_gold_medal.get_group(i)))\n",
    "    \n",
    "most_gold_medals=pd.DataFrame({'Sport':sport, 'Total Gold Medal':gold_count})\n",
    "\n",
    "#Sorting the dataset with total gold medal in descending order\n",
    "most_gold_medals=most_gold_medals.sort_values(by=['Total Gold Medal'],ascending=False)\n",
    "print(most_gold_medals.head())"
   ]
  },
  {
   "cell_type": "code",
   "execution_count": 5,
   "metadata": {},
   "outputs": [
    {
     "data": {
      "text/plain": [
       "<AxesSubplot:xlabel='Sport'>"
      ]
     },
     "execution_count": 5,
     "metadata": {},
     "output_type": "execute_result"
    },
    {
     "data": {
      "image/png": "[encoded data removed]",
      "text/plain": [
       "<Figure size 288x288 with 1 Axes>"
      ]
     },
     "metadata": {
      "needs_background": "light"
     },
     "output_type": "display_data"
    }
   ],
   "source": [
    "most_gold_medals.head().plot(x=\"Sport\", y=\"Total Gold Medal\", kind=\"bar\",figsize = (4, 4))"
   ]
  },
  {
   "cell_type": "markdown",
   "metadata": {},
   "source": [
    "### 3. Which sport is having most number of medals so far? (Top 5)"
   ]
  },
  {
   "cell_type": "code",
   "execution_count": 6,
   "metadata": {},
   "outputs": [
    {
     "name": "stdout",
     "output_type": "stream",
     "text": [
      "         Sport  Total Medals\n",
      "0     Aquatics          4170\n",
      "2    Athletics          3638\n",
      "28      Rowing          2667\n",
      "17  Gymnastics          2307\n",
      "14     Fencing          1613\n"
     ]
    }
   ],
   "source": [
    "#Grouping the data by sport\n",
    "most_medals=df.groupby(\"Sport\")\n",
    "\n",
    "most_medal_count=[]\n",
    "\n",
    "for i in most_medals.groups:\n",
    "    most_medal_count.append(len(most_medals.get_group(i)))  \n",
    "    \n",
    "most_medals=pd.DataFrame({'Sport':sport,'Total Medals':most_medal_count})\n",
    "\n",
    "#Sorting the dataset with total medals in descending order\n",
    "most_medals=most_medals.sort_values(by=['Total Medals'],ascending=False)\n",
    "print(most_medals.head())"
   ]
  },
  {
   "cell_type": "code",
   "execution_count": 7,
   "metadata": {},
   "outputs": [
    {
     "data": {
      "text/plain": [
       "<AxesSubplot:ylabel='Frequency'>"
      ]
     },
     "execution_count": 7,
     "metadata": {},
     "output_type": "execute_result"
    },
    {
     "data": {
      "image/png": "[encoded data removed]",
      "text/plain": [
       "<Figure size 432x288 with 1 Axes>"
      ]
     },
     "metadata": {
      "needs_background": "light"
     },
     "output_type": "display_data"
    }
   ],
   "source": [
    "most_gold_medals.head().plot(x=\"Sport\", y=\"Total Gold Medal\", kind=\"hist\")"
   ]
  },
  {
   "cell_type": "markdown",
   "metadata": {},
   "source": [
    "### 4. Which player has won most number of medals? (Top 5)"
   ]
  },
  {
   "cell_type": "code",
   "execution_count": 8,
   "metadata": {},
   "outputs": [
    {
     "name": "stdout",
     "output_type": "stream",
     "text": [
      "                    Athlete  Medal Count\n",
      "15702       PHELPS, Michael           22\n",
      "11202      LATYNINA, Larisa           18\n",
      "511      ANDRIANOV, Nikolay           15\n",
      "12476  MANGIAROTTI, Edoardo           13\n",
      "14883          ONO, Takashi           13\n"
     ]
    }
   ],
   "source": [
    "#Grouping the dataset by Athlete\n",
    "most_won_player=df.groupby('Athlete')\n",
    "\n",
    "l=[]\n",
    "most_won_athlete=[]\n",
    "\n",
    "for i in most_won_player.groups:\n",
    "    most_won_athlete.append(i)                  # Athlete name\n",
    "    l.append(len(most_won_player.get_group(i))) # Total Entries of that Athlete\n",
    "\n",
    "most_won_player_list=pd.DataFrame({'Athlete':most_won_athlete,'Medal Count':l})\n",
    "\n",
    "#Sorting the dataset with medal count in descending order\n",
    "most_won_player_list=most_won_player_list.sort_values(by=['Medal Count'],ascending=False)\n",
    "print(most_won_player_list.head())"
   ]
  },
  {
   "cell_type": "code",
   "execution_count": 9,
   "metadata": {},
   "outputs": [
    {
     "data": {
      "text/plain": [
       "<AxesSubplot:xlabel='Athlete'>"
      ]
     },
     "execution_count": 9,
     "metadata": {},
     "output_type": "execute_result"
    },
    {
     "data": {
      "image/png": "[encoded data removed]",
      "text/plain": [
       "<Figure size 360x360 with 1 Axes>"
      ]
     },
     "metadata": {
      "needs_background": "light"
     },
     "output_type": "display_data"
    }
   ],
   "source": [
    " most_won_player_list.head().plot(x=\"Athlete\", y='Medal Count', kind=\"bar\",figsize=(5,5))"
   ]
  },
  {
   "cell_type": "markdown",
   "metadata": {},
   "source": [
    "### 5. Which player has won most number Gold Medals of medals? (Top 5)"
   ]
  },
  {
   "cell_type": "code",
   "execution_count": 10,
   "metadata": {},
   "outputs": [
    {
     "name": "stdout",
     "output_type": "stream",
     "text": [
      "                 Sport  Total Medals\n",
      "5712   PHELPS, Michael            18\n",
      "4186       LEWIS, Carl             9\n",
      "5332      NURMI, Paavo             9\n",
      "6905       SPITZ, Mark             9\n",
      "4066  LATYNINA, Larisa             9\n"
     ]
    }
   ],
   "source": [
    "#Extracting only Gold medals Athlete data from the dataset\n",
    "dg=df[df['Medal']=='Gold']\n",
    "\n",
    "#Grouping the data by Athlete\n",
    "dg=dg.groupby(\"Athlete\")\n",
    "\n",
    "sport=[]\n",
    "most_medal_count=[]\n",
    "\n",
    "for i in dg.groups:\n",
    "    sport.append(i)                               #Sport name\n",
    "    most_medal_count.append(len(dg.get_group(i))) #Total entries of that sport \n",
    "    \n",
    "most_medals=pd.DataFrame({'Sport':sport,'Total Medals':most_medal_count})\n",
    "\n",
    "#Sorting the dataset with total medals in descending order\n",
    "most_medals=most_medals.sort_values(by=['Total Medals'],ascending=False)\n",
    "print(most_medals.head())"
   ]
  },
  {
   "cell_type": "code",
   "execution_count": 11,
   "metadata": {},
   "outputs": [
    {
     "data": {
      "text/plain": [
       "<AxesSubplot:ylabel='Frequency'>"
      ]
     },
     "execution_count": 11,
     "metadata": {},
     "output_type": "execute_result"
    },
    {
     "data": {
      "image/png": "[encoded data removed]",
      "text/plain": [
       "<Figure size 432x288 with 1 Axes>"
      ]
     },
     "metadata": {
      "needs_background": "light"
     },
     "output_type": "display_data"
    }
   ],
   "source": [
    " most_won_player_list.head().plot(x=\"Athlete\", y='Medal Count', kind=\"hist\")"
   ]
  },
  {
   "cell_type": "markdown",
   "metadata": {},
   "source": [
    "### 6. In which year India won first Gold Medal in Summer Olympics?"
   ]
  },
  {
   "cell_type": "code",
   "execution_count": 12,
   "metadata": {},
   "outputs": [
    {
     "name": "stdout",
     "output_type": "stream",
     "text": [
      "241    1900\n",
      "Name: Year, dtype: int64\n"
     ]
    }
   ],
   "source": [
    "#print(df['Country'].unique())\n",
    "t=df[df['Country']=='IND']\n",
    "r=t[\"Year\"][:2][:1]\n",
    "print(r)"
   ]
  },
  {
   "cell_type": "markdown",
   "metadata": {},
   "source": [
    "### 7. Which event is most popular in terms on number of players? (Top 5)"
   ]
  },
  {
   "cell_type": "code",
   "execution_count": 13,
   "metadata": {},
   "outputs": [
    {
     "name": "stdout",
     "output_type": "stream",
     "text": [
      "                 Sport  Total Medals\n",
      "5712   PHELPS, Michael            18\n",
      "4186       LEWIS, Carl             9\n",
      "5332      NURMI, Paavo             9\n",
      "6905       SPITZ, Mark             9\n",
      "4066  LATYNINA, Larisa             9\n"
     ]
    }
   ],
   "source": [
    "#Grouping Dataset based on Event\n",
    "dg=df.groupby('Event')\n",
    "\n",
    "event=[]\n",
    "event_players_count=[]\n",
    "\n",
    "for i in dg.groups:\n",
    "    event.append(i)                                  #Event name\n",
    "    event_players_count.append(len(dg.get_group(i))) #Total Entries of that event\n",
    "    \n",
    "most_popular_events=pd.DataFrame({'Event':event,'Players Count':event_players_count})\n",
    "\n",
    "#Sorting the dataset with players count in descending order\n",
    "most_popular_events=most_popular_events.sort_values(by=['Players Count'],ascending=False)\n",
    "print(most_medals.head())"
   ]
  },
  {
   "cell_type": "code",
   "execution_count": 14,
   "metadata": {},
   "outputs": [
    {
     "data": {
      "text/plain": [
       "<AxesSubplot:ylabel='Players Count'>"
      ]
     },
     "execution_count": 14,
     "metadata": {},
     "output_type": "execute_result"
    },
    {
     "data": {
      "image/png": "[encoded data removed]",
      "text/plain": [
       "<Figure size 576x576 with 1 Axes>"
      ]
     },
     "metadata": {},
     "output_type": "display_data"
    }
   ],
   "source": [
    "most_popular_events.head().plot(x=\"Event\", y=\"Players Count\", kind=\"pie\",figsize=(8,8))"
   ]
  },
  {
   "cell_type": "markdown",
   "metadata": {},
   "source": [
    "### 8. Which sport is having most female Gold Medalists? (Top 5)"
   ]
  },
  {
   "cell_type": "code",
   "execution_count": 15,
   "metadata": {},
   "outputs": [
    {
     "name": "stdout",
     "output_type": "stream",
     "text": [
      "                 Sport  Total Medals\n",
      "5712   PHELPS, Michael            18\n",
      "4186       LEWIS, Carl             9\n",
      "5332      NURMI, Paavo             9\n",
      "6905       SPITZ, Mark             9\n",
      "4066  LATYNINA, Larisa             9\n"
     ]
    }
   ],
   "source": [
    "#Extracting only women medalists\n",
    "dg=df[df['Gender']=='Women']\n",
    "\n",
    "#Extracting only gold medalist from women medalists\n",
    "dg=dg[dg['Medal']=='Gold']\n",
    "\n",
    "#Grouping Dataset based on Events\n",
    "dg=dg.groupby(\"Sport\")\n",
    "\n",
    "l=[]\n",
    "sport=[]\n",
    "female_medalist_count=[]\n",
    "\n",
    "for i in dg.groups:\n",
    "    sport.append(i)                                     #Sport name\n",
    "    female_medalist_count.append(len(dg.get_group(i)))  # Total Entries of that Sport \n",
    "    \n",
    "most_female_gold_medalist=pd.DataFrame({'Sport':sport,'Gold Medal Count':female_medalist_count})\n",
    "\n",
    "#Sorting the dataset with Gold Medal count in descending order\n",
    "most_female_gold_medalist=most_female_gold_medalist.sort_values(by=['Gold Medal Count'],ascending=False)\n",
    "print(most_medals.head())"
   ]
  },
  {
   "cell_type": "code",
   "execution_count": 16,
   "metadata": {},
   "outputs": [
    {
     "data": {
      "text/plain": [
       "<AxesSubplot:xlabel='Event'>"
      ]
     },
     "execution_count": 16,
     "metadata": {},
     "output_type": "execute_result"
    },
    {
     "data": {
      "image/png": "[encoded data removed]",
      "text/plain": [
       "<Figure size 288x288 with 1 Axes>"
      ]
     },
     "metadata": {
      "needs_background": "light"
     },
     "output_type": "display_data"
    }
   ],
   "source": [
    "most_popular_events.head().plot(x=\"Event\", y=\"Players Count\", kind=\"bar\",figsize=(4,4))"
   ]
  }
 ],
 "metadata": {
  "kernelspec": {
   "display_name": "Python 3",
   "language": "python",
   "name": "python3"
  },
  "language_info": {
   "codemirror_mode": {
    "name": "ipython",
    "version": 3
   },
   "file_extension": ".py",
   "mimetype": "text/x-python",
   "name": "python",
   "nbconvert_exporter": "python",
   "pygments_lexer": "ipython3",
   "version": "3.8.8"
  }
 },
 "nbformat": 4,
 "nbformat_minor": 2
}
